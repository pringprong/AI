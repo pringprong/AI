{
 "cells": [
  {
   "cell_type": "code",
   "execution_count": null,
   "metadata": {},
   "outputs": [],
   "source": [
    "from tensorflow.keras.models import Sequential, Model\n",
    "from tensorflow.keras.layers import Activation, Dense, Input\n",
    "from tensorflow.keras.optimizers import Adam, SGD\n",
    "import tensorflow.keras\n",
    "import numpy as np\n",
    "import matplotlib.pyplot as plt\n",
    "from sklearn.model_selection import train_test_split\n",
    "from mpl_toolkits.mplot3d import Axes3D\n",
    "plt.style.use('seaborn-whitegrid')\n",
    "plt.rcParams['figure.dpi'] = 200\n",
    "import random\n",
    "import math\n",
    "from datetime import datetime\n",
    "from numpy import *\n",
    "import pylab as p\n",
    "import mpl_toolkits.mplot3d.axes3d as p3\n",
    "random.seed()"
   ]
  },
  {
   "cell_type": "code",
   "execution_count": null,
   "metadata": {},
   "outputs": [],
   "source": [
    "array_len = 100\n",
    "range_width = 1000\n",
    "\n",
    "first_input = np.empty(array_len)\n",
    "second_input = np.empty(array_len)\n",
    "for i in range(array_len):\n",
    "  first_input[i] = random.randint(0, range_width)\n",
    "  second_input[i] = random.randint(0, range_width)\n",
    "\n",
    "x = np.vstack((first_input, second_input)).T\n",
    "x1 = first_input*2 + second_input*3 + 4\n",
    "x2 = first_input*5 - second_input*6 - 7\n",
    "y = x1*8+ x2*9 + 10\n",
    "print(\"Done.\")"
   ]
  },
  {
   "cell_type": "code",
   "execution_count": null,
   "metadata": {},
   "outputs": [],
   "source": [
    "#training_frac = 0.85\n",
    "#train_max_index = math.floor(array_len * training_frac)\n",
    "#X_train = x[:train_max_index,:]\n",
    "#Y_train = y[:train_max_index]\n",
    "#X_test = x[train_max_index:,:]\n",
    "#Y_test = y[train_max_index:]\n",
    "\n",
    "X_train, X_test, Y_train, Y_test = train_test_split(x, y, test_size=0.15)\n",
    "print(\"Done.\")"
   ]
  },
  {
   "cell_type": "code",
   "execution_count": null,
   "metadata": {},
   "outputs": [],
   "source": [
    "model = Sequential()\n",
    "model.add(Dense(5, activation='relu', input_shape=(2,)))\n",
    "model.add(Dense(1, activation='linear'))\n",
    "model.compile(optimizer=Adam(lr=0.01), loss='mse')\n",
    "model.fit(X_train, Y_train, validation_split = 0.2, batch_size=10, epochs=10000)\n",
    "# Note: sometimes this works with 5 nodes in the first layer, sometimes it doesn't"
   ]
  },
  {
   "cell_type": "code",
   "execution_count": null,
   "metadata": {},
   "outputs": [],
   "source": [
    "Y_predict = model.predict(X_test)\n",
    "model.evaluate(X_test, Y_test)"
   ]
  },
  {
   "cell_type": "code",
   "execution_count": null,
   "metadata": {
    "scrolled": false
   },
   "outputs": [],
   "source": [
    "plt.plot(X_test[:,0], Y_test, linestyle='none', marker='.', color='green', label='Test data')\n",
    "plt.plot(X_test[:,0], Y_predict, linestyle='none', marker='x', color='red', label='Prediction')\n",
    "plt.legend(loc='upper left')\n",
    "plt.show()"
   ]
  },
  {
   "cell_type": "code",
   "execution_count": null,
   "metadata": {},
   "outputs": [],
   "source": [
    "plt.plot(X_test[:,1], Y_test, linestyle='none', marker='.', color='green', label='Test data')\n",
    "plt.plot(X_test[:,1], Y_predict, linestyle='none', marker='x', color='red', label='Prediction')\n",
    "plt.legend(loc='upper left')\n",
    "plt.show()"
   ]
  },
  {
   "cell_type": "code",
   "execution_count": null,
   "metadata": {},
   "outputs": [],
   "source": [
    "for layer in model.layers:\n",
    "    print(layer.get_weights())\n",
    "\n",
    "#blob1 = np.dot(X_test[0,:], model.layers[0].get_weights()[0][0]) + model.layers[0].get_weights()[1][0]\n",
    "#blob1 = np.dot(X_test[0,:], model.layers[0].get_weights()[0][1]) + model.layers[0].get_weights()[1][1]\n",
    "#blob3 = blob1*model.layers[1].get_weights()[0][0] + blob2*model.layers[1].get_weights()[0][1] + model.layers[1].get_weights()[1]\n",
    "#print(blob3)"
   ]
  },
  {
   "cell_type": "code",
   "execution_count": null,
   "metadata": {},
   "outputs": [],
   "source": [
    "fig=p.figure()\n",
    "ax = p3.Axes3D(fig)\n",
    "ax.scatter(xs=X_test[:,0], ys=X_test[:,1], zs=Y_test, zdir='z', s=20, c=None, depthshade=True, color='blue')\n",
    "ax.scatter(xs=X_test[:,0], ys=X_test[:,1], zs=Y_predict, zdir='z', s=20, c=None, depthshade=True, color='red')\n",
    "#ax.legend()\n",
    "\n",
    "ax.set_xlabel('$x1$', fontsize=20)\n",
    "ax.set_ylabel('$x2$', fontsize=20)\n",
    "#ax.yaxis._axinfo['label']['space_factor'] = 3.0\n",
    "# set z ticks and labels\n",
    "#ax.set_zticks([-2, 0, 2])\n",
    "# change fontsize\n",
    "#for t in ax.zaxis.get_major_ticks(): t.label.set_fontsize(10)\n",
    "# disable auto rotation\n",
    "ax.xaxis.set_rotate_label(False)\n",
    "ax.yaxis.set_rotate_label(False)\n",
    "ax.zaxis.set_rotate_label(False) \n",
    "ax.set_zlabel('$y$', fontsize=30, rotation = 0)"
   ]
  },
  {
   "cell_type": "code",
   "execution_count": null,
   "metadata": {},
   "outputs": [],
   "source": [
    "histories = []\n",
    "num_trials = 40\n",
    "for h in range(num_trials):\n",
    "    print(h)\n",
    "    model = Sequential()\n",
    "    model.add(Dense(5, activation='relu', input_shape=(2,)))\n",
    "    model.add(Dense(1, activation='linear'))\n",
    "    model.compile(optimizer=Adam(lr=0.01), metrics=['accuracy'], loss='mse')\n",
    "    history = model.fit(X_train, Y_train, validation_split = 0.2, batch_size=10, epochs=2000)\n",
    "    histories.append(history)"
   ]
  },
  {
   "cell_type": "code",
   "execution_count": null,
   "metadata": {},
   "outputs": [],
   "source": [
    "plt.style.use('seaborn-whitegrid')\n",
    "plt.rcParams['figure.dpi'] = 200\n",
    "for j in range(num_trials):\n",
    "    history = histories[j]\n",
    "    plt.plot(history.history['loss'])\n",
    "    plt.plot(history.history['val_loss'])\n",
    "plt.title('model loss')\n",
    "plt.ylabel('loss')\n",
    "plt.yscale('log')\n",
    "plt.xlabel('epoch')\n",
    "#plt.legend(['train', 'test'], loc='upper left')\n",
    "plt.show()"
   ]
  },
  {
   "cell_type": "code",
   "execution_count": null,
   "metadata": {},
   "outputs": [],
   "source": [
    "at1000 = []\n",
    "for j in range(num_trials):\n",
    "    at1000.append(histories[j].history['loss'][1000])\n",
    "at1000.sort()\n",
    "print(at1000)\n"
   ]
  },
  {
   "cell_type": "code",
   "execution_count": null,
   "metadata": {},
   "outputs": [],
   "source": [
    "# Next: try to display the model fits using FacetGrid\n",
    "import seaborn as sns\n",
    "sns.set(style=\"ticks\", color_codes=True)\n",
    "g = sns.FacetGrid(histories[0], col=\"loss\", col_wrap=5, height=1.5)\n"
   ]
  },
  {
   "cell_type": "code",
   "execution_count": null,
   "metadata": {},
   "outputs": [],
   "source": []
  }
 ],
 "metadata": {
  "kernelspec": {
   "display_name": "Python 3",
   "language": "python",
   "name": "python3"
  },
  "language_info": {
   "codemirror_mode": {
    "name": "ipython",
    "version": 3
   },
   "file_extension": ".py",
   "mimetype": "text/x-python",
   "name": "python",
   "nbconvert_exporter": "python",
   "pygments_lexer": "ipython3",
   "version": "3.7.3"
  }
 },
 "nbformat": 4,
 "nbformat_minor": 1
}
