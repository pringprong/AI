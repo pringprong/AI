{
 "cells": [
  {
   "cell_type": "code",
   "execution_count": null,
   "metadata": {},
   "outputs": [],
   "source": [
    "from tensorflow.keras.models import Sequential, Model\n",
    "from tensorflow.keras.layers import Activation, Dense, Input\n",
    "from tensorflow.keras.optimizers import Adam, SGD\n",
    "import tensorflow.keras.initializers\n",
    "import tensorflow.keras\n",
    "import numpy as np\n",
    "import matplotlib.pyplot as plt\n",
    "from sklearn.model_selection import train_test_split\n",
    "plt.style.use('seaborn-whitegrid')\n",
    "plt.rcParams['figure.dpi'] = 200\n",
    "import random\n",
    "import math\n",
    "from datetime import datetime\n",
    "random.seed()"
   ]
  },
  {
   "cell_type": "code",
   "execution_count": null,
   "metadata": {},
   "outputs": [],
   "source": [
    "array_len = 10000\n",
    "x = np.random.sample(array_len)\n",
    "x = x*10 - 5\n",
    "y = np.empty(array_len)\n",
    "\n",
    "# discontinuous function:\n",
    "#for i in range(array_len):\n",
    "#    if (x[i] < 0.5):\n",
    "#        y[i] = 0\n",
    "#    elif (x[i] < 1000):\n",
    "#        y[i] = 1\n",
    "#    else:\n",
    "#         y[i] =0\n",
    "\n",
    "# Cubic function:\n",
    "y = 0.25*(x**3) + 0.75*(x**2) - 1.5*x - 2\n",
    "print (\"Done.\")"
   ]
  },
  {
   "cell_type": "code",
   "execution_count": null,
   "metadata": {},
   "outputs": [],
   "source": [
    "X_train, X_test, Y_train, Y_test = train_test_split(x, y, test_size=0.15)\n",
    "print(\"Done.\")"
   ]
  },
  {
   "cell_type": "code",
   "execution_count": null,
   "metadata": {},
   "outputs": [],
   "source": [
    "model = Sequential()\n",
    "model.add(Dense(10, activation='relu', input_shape=(1,)))\n",
    "model.add(Dense(1, activation='linear'))\n",
    "model.compile(optimizer=Adam(lr=0.001), loss='mean_absolute_error')\n",
    "model.fit(X_train, Y_train, epochs=300, validation_split=0.2, batch_size=100)"
   ]
  },
  {
   "cell_type": "code",
   "execution_count": null,
   "metadata": {},
   "outputs": [],
   "source": [
    "Y_predict = model.predict(X_test)\n",
    "model.evaluate(X_test, Y_test)"
   ]
  },
  {
   "cell_type": "code",
   "execution_count": null,
   "metadata": {
    "scrolled": false
   },
   "outputs": [],
   "source": [
    "plt.style.use('seaborn-whitegrid')\n",
    "plt.rcParams['figure.dpi'] = 200\n",
    "plt.plot(X_train, Y_train, linestyle='none', marker='.', color='blue', label='Training data')\n",
    "plt.plot(X_test, Y_test, linestyle='none', marker='.', color='cyan', label='Test data')\n",
    "plt.plot(X_test, Y_predict, linestyle='none', marker='x', color='red', label='Prediction')\n",
    "plt.legend(loc='upper left')\n",
    "plt.show()"
   ]
  },
  {
   "cell_type": "code",
   "execution_count": null,
   "metadata": {},
   "outputs": [],
   "source": [
    "print(model.get_weights())"
   ]
  },
  {
   "cell_type": "code",
   "execution_count": null,
   "metadata": {},
   "outputs": [],
   "source": [
    "#### Miscellaneous functions\n",
    "def sigmoid(z):\n",
    "    \"\"\"The sigmoid function.\"\"\"\n",
    "    return 1.0/(1.0+np.exp(-z))\n",
    "\n",
    "def sigmoid_prime(z):\n",
    "    \"\"\"Derivative of the sigmoid function.\"\"\"\n",
    "    return sigmoid(z)*(1-sigmoid(z))\n",
    "\n",
    "def normalized_sigmoid_fkt(a, b, x):\n",
    "   '''\n",
    "   Returns array of a horizontal mirrored normalized sigmoid function\n",
    "   output between 0 and 1\n",
    "   Function parameters a = center; b = width\n",
    "   '''\n",
    "   s= 1/(1+np.exp(b*(x-a)))\n",
    "   return 1*(s-min(s))/(max(s)-min(s)) # normalize function to 0-1\n",
    "\n",
    "def logistic(x, minimum, maximum, slope, ec50):\n",
    "    return maximum + (minimum-maximum)/(1 + (x/ec50)**slope)"
   ]
  },
  {
   "cell_type": "code",
   "execution_count": null,
   "metadata": {},
   "outputs": [],
   "source": [
    "array_len = 10000\n",
    "range_width = 1000\n",
    "x2 = np.random.random_sample((array_len,))\n",
    "\n",
    "ec501 = 0.75\n",
    "slope1 = -20\n",
    "minimum1 = 0\n",
    "maximum1 = 1\n",
    "\n",
    "ec502 = 0.25\n",
    "slope2 = 10\n",
    "minimum2 = 0\n",
    "maximum2 = 1\n",
    "y2 = np.empty(array_len)\n",
    "\n",
    "for i in range(array_len):\n",
    "    #y2[i] =logistic(x2[i], minimum, maximum, slope, ec50)\n",
    "    y2[i] = logistic(x2[i], minimum1, maximum1, slope1, ec501) + logistic(x2[i], minimum2, maximum2, slope2, ec502) -1        \n",
    "print (\"Done.\")"
   ]
  },
  {
   "cell_type": "code",
   "execution_count": null,
   "metadata": {},
   "outputs": [],
   "source": [
    "X_train2, X_test2, Y_train2, Y_test2 = train_test_split(x2, y2, test_size=0.15)\n",
    "print(\"Done.\")"
   ]
  },
  {
   "cell_type": "code",
   "execution_count": null,
   "metadata": {},
   "outputs": [],
   "source": [
    "model2 = Sequential()\n",
    "model2.add(Dense(2, activation='sigmoid', input_shape=(1,)))\n",
    "model2.add(Dense(1, activation='sigmoid'))\n",
    "model2.compile(optimizer=Adam(lr=0.01), loss='mean_squared_error')\n",
    "model2.fit(X_train2, Y_train2, validation_split = 0.2, batch_size=100, epochs=300)\n",
    "# Note: this does not converge 100% of the time. may have to run more than once"
   ]
  },
  {
   "cell_type": "code",
   "execution_count": null,
   "metadata": {},
   "outputs": [],
   "source": [
    "Y_predict2 = model2.predict(X_test2)\n",
    "model2.evaluate(X_test2, Y_test2)"
   ]
  },
  {
   "cell_type": "code",
   "execution_count": null,
   "metadata": {},
   "outputs": [],
   "source": [
    "plt.style.use('seaborn-whitegrid')\n",
    "plt.rcParams['figure.dpi'] = 200\n",
    "plt.plot(X_train2, Y_train2, linestyle='none', marker='.', color='blue', label='Training data')\n",
    "plt.plot(X_test2, Y_test2, linestyle='none', marker='.', color='cyan', label='Test data')\n",
    "plt.plot(X_test2, Y_predict2, linestyle='none', marker='x', color='red', label='Prediction')\n",
    "plt.legend(loc='upper left')\n",
    "plt.show()"
   ]
  },
  {
   "cell_type": "code",
   "execution_count": null,
   "metadata": {},
   "outputs": [],
   "source": [
    "for layer in model2.layers:\n",
    "    print(layer.get_config())\n",
    "    print(layer.get_weights())"
   ]
  },
  {
   "cell_type": "code",
   "execution_count": null,
   "metadata": {},
   "outputs": [],
   "source": []
  }
 ],
 "metadata": {
  "kernelspec": {
   "display_name": "Python 3",
   "language": "python",
   "name": "python3"
  },
  "language_info": {
   "codemirror_mode": {
    "name": "ipython",
    "version": 3
   },
   "file_extension": ".py",
   "mimetype": "text/x-python",
   "name": "python",
   "nbconvert_exporter": "python",
   "pygments_lexer": "ipython3",
   "version": "3.7.3"
  }
 },
 "nbformat": 4,
 "nbformat_minor": 1
}
